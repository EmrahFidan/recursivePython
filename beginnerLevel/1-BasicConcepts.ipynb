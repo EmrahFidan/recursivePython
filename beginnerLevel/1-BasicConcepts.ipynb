{
 "cells": [
  {
   "cell_type": "code",
   "execution_count": 1,
   "metadata": {},
   "outputs": [],
   "source": [
    "# Get income information\n",
    "income_str = input(\"Enter your monthly income (TL): \")\n",
    "income = float(income_str)"
   ]
  },
  {
   "cell_type": "code",
   "execution_count": 2,
   "metadata": {},
   "outputs": [],
   "source": [
    "# Get expense information for categories\n",
    "rent_str = input(\"Enter your rent/housing expense (TL): \")\n",
    "bills_str = input(\"Enter your utility bills (TL): \")\n",
    "food_str = input(\"Enter your food expenses (TL): \")\n",
    "transport_str = input(\"Enter your transportation expenses (TL): \")\n",
    "entertainment_str = input(\"Enter your entertainment/social expenses (TL): \")\n",
    "other_str = input(\"Enter your other expenses (TL): \") "
   ]
  },
  {
   "cell_type": "code",
   "execution_count": 3,
   "metadata": {},
   "outputs": [],
   "source": [
    "# Convert string to float\n",
    "rent = float(rent_str)\n",
    "bills = float(bills_str)\n",
    "food = float(food_str)\n",
    "transport = float(transport_str)\n",
    "entertainment = float(entertainment_str)\n",
    "other = float(other_str)\n",
    "\n",
    "# Calculate total expenses\n",
    "total_expenses = rent + bills + food + transport + entertainment + other\n",
    "\n",
    "# Calculate remaining money\n",
    "remaining = income - total_expenses\n",
    "\n",
    "# Calculate savings rate\n",
    "savings_rate = (remaining / income) * 100 if income > 0 else 0"
   ]
  },
  {
   "cell_type": "code",
   "execution_count": 4,
   "metadata": {},
   "outputs": [],
   "source": [
    "# Calculate percentage for each category\n",
    "rent_percent = (rent / income) * 100 if income > 0 else 0\n",
    "bills_percent = (bills / income) * 100 if income > 0 else 0\n",
    "food_percent = (food / income) * 100 if income > 0 else 0\n",
    "transport_percent = (transport / income) * 100 if income > 0 else 0\n",
    "entertainment_percent = (entertainment / income) * 100 if income > 0 else 0\n",
    "other_percent = (other / income) * 100 if income > 0 else 0"
   ]
  },
  {
   "cell_type": "code",
   "execution_count": 7,
   "metadata": {},
   "outputs": [
    {
     "name": "stdout",
     "output_type": "stream",
     "text": [
      "\n",
      "===== BUDGET ANALYSIS =====\n",
      "Total Income: 25000.00\n",
      "Total Expenses: 22500.00\n",
      "Remaining: 2500.00\n",
      "Savings Rate: 10.0%\n",
      "\n",
      "===== EXPENSE DISTRIBUTION =====\n",
      "Rent/Housing: 7000.00 (28.0%)\n",
      "Utilities: 3000.00 (12.0%)\n",
      "Food: 5000.00 (20.0%)\n",
      "Transportation: 1500.00 (6.0%)\n",
      "Entertainment/Social: 4000.00 (16.0%)\n",
      "Other: 2000.00 (8.0%)\n"
     ]
    }
   ],
   "source": [
    "# Format results\n",
    "print(\"\\n===== BUDGET ANALYSIS =====\")\n",
    "print(f\"Total Income: {income:.2f}\")\n",
    "print(f\"Total Expenses: {total_expenses:.2f}\")\n",
    "print(f\"Remaining: {remaining:.2f}\")\n",
    "print(f\"Savings Rate: {savings_rate:.1f}%\")\n",
    "\n",
    "print(\"\\n===== EXPENSE DISTRIBUTION =====\")\n",
    "print(f\"Rent/Housing: {rent:.2f} ({rent_percent:.1f}%)\")\n",
    "print(f\"Utilities: {bills:.2f} ({bills_percent:.1f}%)\")\n",
    "print(f\"Food: {food:.2f} ({food_percent:.1f}%)\")\n",
    "print(f\"Transportation: {transport:.2f} ({transport_percent:.1f}%)\")\n",
    "print(f\"Entertainment/Social: {entertainment:.2f} ({entertainment_percent:.1f}%)\")\n",
    "print(f\"Other: {other:.2f} ({other_percent:.1f}%)\")"
   ]
  },
  {
   "cell_type": "code",
   "execution_count": null,
   "metadata": {},
   "outputs": [
    {
     "name": "stdout",
     "output_type": "stream",
     "text": [
      "\n",
      "===== RECOMMENDATIONS =====\n",
      "Good! You're saving more than 10% of your income.\n",
      "You might want to review your expenses to increase your savings.\n"
     ]
    }
   ],
   "source": [
    "# Recommendations based on savings rate\n",
    "print(\"\\n===== RECOMMENDATIONS =====\")\n",
    "if savings_rate >= 20:\n",
    "    print(\"Great! You're saving more than 20% of your income.\")\n",
    "    print(\"You could consider investing these savings.\")\n",
    "elif savings_rate >= 10:\n",
    "    print(\"Good! You're saving more than 10% of your income.\")\n",
    "    print(\"You might want to review your expenses to increase your savings.\")\n",
    "elif savings_rate >= 0:\n",
    "    print(\"Your savings rate is low. Consider reducing some expenses.\")\n",
    "    highest_category = max([(rent, \"Rent/Housing\"), (bills, \"Utilities\"), \n",
    "                            (food, \"Food\"), (transport, \"Transportation\"), \n",
    "                            (entertainment, \"Entertainment\"), (other, \"Other\")])\n",
    "    print(f\"Your highest expense category: {highest_category[1]} ({highest_category[0]:.2f}TL)\")\n",
    "else:\n",
    "    print(\"Warning! Your expenses exceed your income. You need to review your budget immediately.\")\n",
    "    print(f\"This month you're {abs(remaining):.2f}TL short.\")"
   ]
  }
 ],
 "metadata": {
  "kernelspec": {
   "display_name": "Python 3",
   "language": "python",
   "name": "python3"
  },
  "language_info": {
   "codemirror_mode": {
    "name": "ipython",
    "version": 3
   },
   "file_extension": ".py",
   "mimetype": "text/x-python",
   "name": "python",
   "nbconvert_exporter": "python",
   "pygments_lexer": "ipython3",
   "version": "3.11.0"
  }
 },
 "nbformat": 4,
 "nbformat_minor": 2
}
